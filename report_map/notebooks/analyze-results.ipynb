{
 "cells": [
  {
   "cell_type": "code",
   "execution_count": 1,
   "metadata": {},
   "outputs": [],
   "source": [
    "import pandas as pd"
   ]
  },
  {
   "cell_type": "code",
   "execution_count": 2,
   "metadata": {},
   "outputs": [],
   "source": [
    "df = pd.read_csv('~/Desktop/MSR2/CapstoneMap/data/baseline_district_vote_share.csv')"
   ]
  },
  {
   "cell_type": "code",
   "execution_count": 3,
   "metadata": {},
   "outputs": [
    {
     "data": {
      "text/html": [
       "<div>\n",
       "<style scoped>\n",
       "    .dataframe tbody tr th:only-of-type {\n",
       "        vertical-align: middle;\n",
       "    }\n",
       "\n",
       "    .dataframe tbody tr th {\n",
       "        vertical-align: top;\n",
       "    }\n",
       "\n",
       "    .dataframe thead th {\n",
       "        text-align: right;\n",
       "    }\n",
       "</style>\n",
       "<table border=\"1\" class=\"dataframe\">\n",
       "  <thead>\n",
       "    <tr style=\"text-align: right;\">\n",
       "      <th></th>\n",
       "      <th>US Congressional District</th>\n",
       "      <th>Democratic Party Vote Share</th>\n",
       "      <th>Republican Party Vote Share</th>\n",
       "    </tr>\n",
       "  </thead>\n",
       "  <tbody>\n",
       "    <tr>\n",
       "      <th>0</th>\n",
       "      <td>Alabama-1</td>\n",
       "      <td>0.257677</td>\n",
       "      <td>0.742323</td>\n",
       "    </tr>\n",
       "    <tr>\n",
       "      <th>1</th>\n",
       "      <td>Alabama-2</td>\n",
       "      <td>0.292336</td>\n",
       "      <td>0.707664</td>\n",
       "    </tr>\n",
       "    <tr>\n",
       "      <th>2</th>\n",
       "      <td>Alabama-3</td>\n",
       "      <td>0.262176</td>\n",
       "      <td>0.737824</td>\n",
       "    </tr>\n",
       "    <tr>\n",
       "      <th>3</th>\n",
       "      <td>Alabama-4</td>\n",
       "      <td>0.128962</td>\n",
       "      <td>0.871038</td>\n",
       "    </tr>\n",
       "    <tr>\n",
       "      <th>4</th>\n",
       "      <td>Alabama-5</td>\n",
       "      <td>0.243977</td>\n",
       "      <td>0.756023</td>\n",
       "    </tr>\n",
       "  </tbody>\n",
       "</table>\n",
       "</div>"
      ],
      "text/plain": [
       "  US Congressional District  Democratic Party Vote Share  \\\n",
       "0                 Alabama-1                     0.257677   \n",
       "1                 Alabama-2                     0.292336   \n",
       "2                 Alabama-3                     0.262176   \n",
       "3                 Alabama-4                     0.128962   \n",
       "4                 Alabama-5                     0.243977   \n",
       "\n",
       "   Republican Party Vote Share  \n",
       "0                     0.742323  \n",
       "1                     0.707664  \n",
       "2                     0.737824  \n",
       "3                     0.871038  \n",
       "4                     0.756023  "
      ]
     },
     "execution_count": 3,
     "metadata": {},
     "output_type": "execute_result"
    }
   ],
   "source": [
    "df.head()"
   ]
  },
  {
   "cell_type": "code",
   "execution_count": 9,
   "metadata": {},
   "outputs": [
    {
     "data": {
      "text/plain": [
       "count    436.000000\n",
       "mean       0.370714\n",
       "std        0.144852\n",
       "min        0.097596\n",
       "25%        0.258577\n",
       "50%        0.331973\n",
       "75%        0.481201\n",
       "max        0.743877\n",
       "Name: Democratic Party Vote Share, dtype: float64"
      ]
     },
     "execution_count": 9,
     "metadata": {},
     "output_type": "execute_result"
    }
   ],
   "source": [
    "df['Democratic Party Vote Share'].describe()"
   ]
  },
  {
   "cell_type": "code",
   "execution_count": 10,
   "metadata": {},
   "outputs": [
    {
     "data": {
      "text/plain": [
       "count    436.000000\n",
       "mean       0.629286\n",
       "std        0.144852\n",
       "min        0.256123\n",
       "25%        0.518799\n",
       "50%        0.668027\n",
       "75%        0.741423\n",
       "max        0.902404\n",
       "Name: Republican Party Vote Share, dtype: float64"
      ]
     },
     "execution_count": 10,
     "metadata": {},
     "output_type": "execute_result"
    }
   ],
   "source": [
    "df['Republican Party Vote Share'].describe()"
   ]
  },
  {
   "cell_type": "code",
   "execution_count": 11,
   "metadata": {},
   "outputs": [],
   "source": [
    "# Which state has the most \"polarity\""
   ]
  },
  {
   "cell_type": "code",
   "execution_count": null,
   "metadata": {},
   "outputs": [],
   "source": []
  }
 ],
 "metadata": {
  "kernelspec": {
   "display_name": "Python 2",
   "language": "python",
   "name": "python2"
  },
  "language_info": {
   "codemirror_mode": {
    "name": "ipython",
    "version": 2
   },
   "file_extension": ".py",
   "mimetype": "text/x-python",
   "name": "python",
   "nbconvert_exporter": "python",
   "pygments_lexer": "ipython2",
   "version": "2.7.9"
  }
 },
 "nbformat": 4,
 "nbformat_minor": 2
}
