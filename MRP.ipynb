{
 "cells": [
  {
   "cell_type": "code",
   "execution_count": 1,
   "metadata": {},
   "outputs": [
    {
     "name": "stderr",
     "output_type": "stream",
     "text": [
      "WARNING (theano.configdefaults): g++ not available, if using conda: `conda install m2w64-toolchain`\n",
      "C:\\Anaconda3\\envs\\MSR\\lib\\site-packages\\theano\\configdefaults.py:560: UserWarning: DeprecationWarning: there is no c++ compiler.This is deprecated and with Theano 0.11 a c++ compiler will be mandatory\n",
      "  warnings.warn(\"DeprecationWarning: there is no c++ compiler.\"\n",
      "WARNING (theano.configdefaults): g++ not detected ! Theano will be unable to execute optimized C-implementations (for both CPU and GPU) and will default to Python implementations. Performance will be severely degraded. To remove this warning, set Theano flags cxx to an empty string.\n",
      "WARNING (theano.tensor.blas): Using NumPy C-API based implementation for BLAS functions.\n",
      "ERROR (theano.gpuarray): Could not initialize pygpu, support disabled\n",
      "Traceback (most recent call last):\n",
      "  File \"C:\\Anaconda3\\envs\\MSR\\lib\\site-packages\\theano\\gpuarray\\__init__.py\", line 227, in <module>\n",
      "    use(config.device)\n",
      "  File \"C:\\Anaconda3\\envs\\MSR\\lib\\site-packages\\theano\\gpuarray\\__init__.py\", line 214, in use\n",
      "    init_dev(device, preallocate=preallocate)\n",
      "  File \"C:\\Anaconda3\\envs\\MSR\\lib\\site-packages\\theano\\gpuarray\\__init__.py\", line 67, in init_dev\n",
      "    raise RuntimeError(\"The new gpu-backend need a c++ compiler.\")\n",
      "RuntimeError: The new gpu-backend need a c++ compiler.\n",
      "C:\\Anaconda3\\envs\\MSR\\lib\\site-packages\\h5py\\__init__.py:36: FutureWarning: Conversion of the second argument of issubdtype from `float` to `np.floating` is deprecated. In future, it will be treated as `np.float64 == np.dtype(float).type`.\n",
      "  from ._conv import register_converters as _register_converters\n"
     ]
    }
   ],
   "source": [
    "import pymc3 as pm\n",
    "import pandas as pd\n",
    "import numpy as np\n",
    "\n",
    "from misc import *\n"
   ]
  },
  {
   "cell_type": "code",
   "execution_count": 15,
   "metadata": {},
   "outputs": [
    {
     "data": {
      "text/plain": [
       "array([['Alabama', 122],\n",
       "       ['Alaska', 3],\n",
       "       ['Arizona', 110],\n",
       "       ['Arkansas', 37],\n",
       "       ['California', 536],\n",
       "       ['Colorado', 52],\n",
       "       ['Connecticut', 44],\n",
       "       ['Delaware', 9],\n",
       "       ['District of Columbia', 33],\n",
       "       ['Florida', 380],\n",
       "       ['Georgia', 196],\n",
       "       ['Hawaii', 10],\n",
       "       ['Idaho', 22],\n",
       "       ['Illinois', 286],\n",
       "       ['Indiana', 105],\n",
       "       ['Iowa', 59],\n",
       "       ['Kansas', 36],\n",
       "       ['Kentucky', 154],\n",
       "       ['Louisiana', 72],\n",
       "       ['Maine', 23],\n",
       "       ['Maryland', 112],\n",
       "       ['Massachusetts', 68],\n",
       "       ['Michigan', 279],\n",
       "       ['Minnesota', 70],\n",
       "       ['Mississippi', 47],\n",
       "       ['Missouri', 111],\n",
       "       ['Montana', 9],\n",
       "       ['Nebraska', 39],\n",
       "       ['Nevada', 36],\n",
       "       ['New Hampshire', 14],\n",
       "       ['New Jersey', 96],\n",
       "       ['New Mexico', 13],\n",
       "       ['New York', 305],\n",
       "       ['North Carolina', 220],\n",
       "       ['North Dakota', 4],\n",
       "       ['Ohio', 331],\n",
       "       ['Oklahoma', 77],\n",
       "       ['Oregon', 57],\n",
       "       ['Pennsylvania', 273],\n",
       "       ['Rhode Island', 20],\n",
       "       ['South Carolina', 64],\n",
       "       ['South Dakota', 11],\n",
       "       ['Tennessee', 137],\n",
       "       ['Texas', 487],\n",
       "       ['Unknown', 236],\n",
       "       ['Utah', 35],\n",
       "       ['Vermont', 10],\n",
       "       ['Virginia', 153],\n",
       "       ['Washington', 97],\n",
       "       ['West Virginia', 71],\n",
       "       ['Wisconsin', 92],\n",
       "       ['Wyoming', 8]], dtype=object)"
      ]
     },
     "execution_count": 15,
     "metadata": {},
     "output_type": "execute_result"
    }
   ],
   "source": [
    "#Load the survey data\n",
    "\n",
    "index1 = preprocess(pd.read_excel('data/RawData/IN10001.xls'))\n",
    "index4 = preprocess(pd.read_excel('data/RawData/IN10004.xls'))\n",
    "index5 = preprocess(pd.read_excel('data/RawData/IN10005.xls'))\n",
    "index6 = preprocess(pd.read_excel('data/RawData/IN10006.xls'))\n",
    "index7 = preprocess(pd.read_excel('data/RawData/IN10007.xls'))\n",
    "\n",
    "#Create a new dataframe that only contains the demographic information that's included in each survey\n",
    "\n",
    "common_columns = list(set(index1.columns).intersection(set(index7.columns)))\n",
    "\n",
    "common_data = pd.concat([index1[common_columns],\n",
    "                         index4[common_columns],\n",
    "                         index5[common_columns],\n",
    "                         index6[common_columns],\n",
    "                         index7[common_columns]\n",
    "                        ])\n",
    "\n",
    "#Drop the columns that don't contain demographic information\n",
    "\n",
    "common_data.drop(['ID', 'ADID IDFA', 'Time Started', 'Time Finished'], axis=1, inplace=True)\n",
    "\n",
    "#Get count of respondents by state\n",
    "\n",
    "common_data.groupby(['Area']).size().reset_index().values\n"
   ]
  },
  {
   "cell_type": "code",
   "execution_count": null,
   "metadata": {},
   "outputs": [],
   "source": [
    "index1_unique = index1.groupby([])"
   ]
  }
 ],
 "metadata": {
  "kernelspec": {
   "display_name": "Python [conda env:MSR]",
   "language": "python",
   "name": "conda-env-MSR-py"
  },
  "language_info": {
   "codemirror_mode": {
    "name": "ipython",
    "version": 3
   },
   "file_extension": ".py",
   "mimetype": "text/x-python",
   "name": "python",
   "nbconvert_exporter": "python",
   "pygments_lexer": "ipython3",
   "version": "3.6.4"
  }
 },
 "nbformat": 4,
 "nbformat_minor": 2
}
